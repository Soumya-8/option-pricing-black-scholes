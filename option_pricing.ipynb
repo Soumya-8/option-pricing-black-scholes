{
 "cells": [
  {
   "cell_type": "code",
   "execution_count": 1,
   "metadata": {},
   "outputs": [],
   "source": [
    "# 📦 Import the required Python libraries\n",
    "import numpy as np\n",
    "import matplotlib.pyplot as plt\n",
    "import scipy.stats as si"
   ]
  },
  {
   "cell_type": "code",
   "execution_count": 2,
   "metadata": {},
   "outputs": [],
   "source": [
    "# 📌 Black-Scholes formula function\n",
    "def black_scholes(S, K, T, r, sigma, option='call'):\n",
    "    d1 = (np.log(S / K) + (r + 0.5 * sigma**2)*T) / (sigma * np.sqrt(T))\n",
    "    d2 = d1 - sigma * np.sqrt(T)\n",
    "\n",
    "    if option == 'call':\n",
    "        return S * si.norm.cdf(d1) - K * np.exp(-r*T) * si.norm.cdf(d2)\n",
    "    elif option == 'put':\n",
    "        return K * np.exp(-r*T) * si.norm.cdf(-d2) - S * si.norm.cdf(-d1)\n"
   ]
  },
  {
   "cell_type": "code",
   "execution_count": 3,
   "metadata": {},
   "outputs": [
    {
     "name": "stdout",
     "output_type": "stream",
     "text": [
      "Call Option Price: ₹8.02\n",
      "Put Option Price: ₹7.90\n"
     ]
    }
   ],
   "source": [
    "# 🧮 Example values\n",
    "S = 100     # Stock Price\n",
    "K = 105     # Strike Price\n",
    "T = 1       # Time to Expiry (1 year)\n",
    "r = 0.05    # Interest Rate\n",
    "sigma = 0.2 # Volatility (20%)\n",
    "\n",
    "# ✅ Calculate call and put option prices\n",
    "call_price = black_scholes(S, K, T, r, sigma, 'call')\n",
    "put_price = black_scholes(S, K, T, r, sigma, 'put')\n",
    "\n",
    "print(f\"Call Option Price: ₹{call_price:.2f}\")\n",
    "print(f\"Put Option Price: ₹{put_price:.2f}\")\n"
   ]
  },
  {
   "cell_type": "markdown",
   "metadata": {},
   "source": [
    "# 📉 Black-Scholes Option Pricing\n",
    "\n",
    "This notebook uses the Black-Scholes model to calculate European-style Call and Put Option prices.\n",
    "\n",
    "### 🧠 Formula:\n",
    "The model calculates theoretical option prices based on:\n",
    "- S: Current stock price\n",
    "- K: Strike price\n",
    "- T: Time to maturity (in years)\n",
    "- r: Risk-free interest rate\n",
    "- σ: Volatility\n",
    "\n",
    "Below is the Python implementation and a sample calculation.\n"
   ]
  },
  {
   "cell_type": "markdown",
   "metadata": {},
   "source": [
    "## 🔣 Define Black-Scholes Formula\n"
   ]
  },
  {
   "cell_type": "markdown",
   "metadata": {},
   "source": [
    "## 🔢 Example Calculation\n"
   ]
  },
  {
   "cell_type": "markdown",
   "metadata": {},
   "source": [
    "## 📊 Plot: Call Price vs Volatility\n"
   ]
  }
 ],
 "metadata": {
  "kernelspec": {
   "display_name": "Python 3",
   "language": "python",
   "name": "python3"
  },
  "language_info": {
   "codemirror_mode": {
    "name": "ipython",
    "version": 3
   },
   "file_extension": ".py",
   "mimetype": "text/x-python",
   "name": "python",
   "nbconvert_exporter": "python",
   "pygments_lexer": "ipython3",
   "version": "3.12.6"
  }
 },
 "nbformat": 4,
 "nbformat_minor": 2
}
